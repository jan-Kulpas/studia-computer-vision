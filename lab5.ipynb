{
  "cells": [
    {
      "cell_type": "markdown",
      "id": "1777ce1a",
      "metadata": {
        "id": "1777ce1a"
      },
      "source": [
        "# Pomnażanie obrazów i przenoszenie nauki"
      ]
    },
    {
      "cell_type": "code",
      "execution_count": 1,
      "id": "168769e8",
      "metadata": {
        "id": "168769e8",
        "outputId": "7e71c074-cc5c-4245-b446-3a3ac3d7267a",
        "colab": {
          "base_uri": "https://localhost:8080/"
        }
      },
      "outputs": [
        {
          "output_type": "stream",
          "name": "stdout",
          "text": [
            "GPU 0: Tesla T4\n"
          ]
        }
      ],
      "source": [
        "import os\n",
        "\n",
        "# Ustawienie PyTorch jako zaplecza dla biblioteki Keras\n",
        "os.environ[\"KERAS_BACKEND\"] = \"torch\"\n",
        "import torch\n",
        "import keras\n",
        "from keras import layers, datasets\n",
        "\n",
        "import numpy as np\n",
        "import PIL.Image as Image\n",
        "import matplotlib.pylab as plt\n",
        "\n",
        "# Sprawdzenie dostępności GPU\n",
        "#print(tf.config.list_physical_devices('GPU'))\n",
        "if torch.cuda.is_available():\n",
        "    for i in range(torch.cuda.device_count()):\n",
        "        print(f\"GPU {i}: {torch.cuda.get_device_name(i)}\")\n",
        "else:\n",
        "    if torch.xpu.is_available():\n",
        "        for i in range(torch.xpu.device_count()):\n",
        "            print(f\"XPU {i}: {torch.xpu.get_device_name(i)}\")\n",
        "    else:\n",
        "        print(\"Brak dostępnych GPU lub XPU.\")\n",
        "        print(\"Używam CPU.\")"
      ]
    },
    {
      "cell_type": "code",
      "execution_count": 4,
      "id": "401612a9",
      "metadata": {
        "id": "401612a9"
      },
      "outputs": [],
      "source": [
        "IMAGE_SIZE = 96 #299\n",
        "IMAGE_SHAPE = (IMAGE_SIZE, IMAGE_SIZE)\n",
        "num_classes = 10\n",
        "\n",
        "(train_images, train_labels), (test_images, test_labels) = datasets.mnist.load_data()\n",
        "\n",
        "# Normalize pixel values to be between 0 and 1\n",
        "train_images, test_images = train_images / 255.0, test_images / 255.0"
      ]
    },
    {
      "cell_type": "code",
      "execution_count": 5,
      "id": "defcaebd",
      "metadata": {
        "id": "defcaebd",
        "outputId": "050a8177-38ad-462d-bd0d-fcc1f17b864a",
        "colab": {
          "base_uri": "https://localhost:8080/",
          "height": 1000
        }
      },
      "outputs": [
        {
          "output_type": "display_data",
          "data": {
            "text/plain": [
              "\u001b[1mModel: \"functional\"\u001b[0m\n"
            ],
            "text/html": [
              "<pre style=\"white-space:pre;overflow-x:auto;line-height:normal;font-family:Menlo,'DejaVu Sans Mono',consolas,'Courier New',monospace\"><span style=\"font-weight: bold\">Model: \"functional\"</span>\n",
              "</pre>\n"
            ]
          },
          "metadata": {}
        },
        {
          "output_type": "display_data",
          "data": {
            "text/plain": [
              "┏━━━━━━━━━━━━━━━━━━━┳━━━━━━━━━━━━━━━━━┳━━━━━━━━━━━┳━━━━━━━━━━━━━━━━┳━━━━━━━┓\n",
              "┃\u001b[1m \u001b[0m\u001b[1mLayer (type)     \u001b[0m\u001b[1m \u001b[0m┃\u001b[1m \u001b[0m\u001b[1mOutput Shape   \u001b[0m\u001b[1m \u001b[0m┃\u001b[1m \u001b[0m\u001b[1m  Param #\u001b[0m\u001b[1m \u001b[0m┃\u001b[1m \u001b[0m\u001b[1mConnected to  \u001b[0m\u001b[1m \u001b[0m┃\u001b[1m \u001b[0m\u001b[1mTrai…\u001b[0m\u001b[1m \u001b[0m┃\n",
              "┡━━━━━━━━━━━━━━━━━━━╇━━━━━━━━━━━━━━━━━╇━━━━━━━━━━━╇━━━━━━━━━━━━━━━━╇━━━━━━━┩\n",
              "│ input_layer_1     │ (\u001b[38;5;45mNone\u001b[0m, \u001b[38;5;34m28\u001b[0m, \u001b[38;5;34m28\u001b[0m,  │         \u001b[38;5;34m0\u001b[0m │ -              │   \u001b[1m-\u001b[0m   │\n",
              "│ (\u001b[38;5;33mInputLayer\u001b[0m)      │ \u001b[38;5;34m1\u001b[0m)              │           │                │       │\n",
              "├───────────────────┼─────────────────┼───────────┼────────────────┼───────┤\n",
              "│ resizing          │ (\u001b[38;5;45mNone\u001b[0m, \u001b[38;5;34m96\u001b[0m, \u001b[38;5;34m96\u001b[0m,  │         \u001b[38;5;34m0\u001b[0m │ input_layer_1… │   \u001b[1m-\u001b[0m   │\n",
              "│ (\u001b[38;5;33mResizing\u001b[0m)        │ \u001b[38;5;34m1\u001b[0m)              │           │                │       │\n",
              "├───────────────────┼─────────────────┼───────────┼────────────────┼───────┤\n",
              "│ concatenate       │ (\u001b[38;5;45mNone\u001b[0m, \u001b[38;5;34m96\u001b[0m, \u001b[38;5;34m96\u001b[0m,  │         \u001b[38;5;34m0\u001b[0m │ resizing[\u001b[38;5;34m0\u001b[0m][\u001b[38;5;34m0\u001b[0m… │   \u001b[1m-\u001b[0m   │\n",
              "│ (\u001b[38;5;33mConcatenate\u001b[0m)     │ \u001b[38;5;34m3\u001b[0m)              │           │ resizing[\u001b[38;5;34m0\u001b[0m][\u001b[38;5;34m0\u001b[0m… │       │\n",
              "│                   │                 │           │ resizing[\u001b[38;5;34m0\u001b[0m][\u001b[38;5;34m0\u001b[0m] │       │\n",
              "├───────────────────┼─────────────────┼───────────┼────────────────┼───────┤\n",
              "│ random_flip       │ (\u001b[38;5;45mNone\u001b[0m, \u001b[38;5;34m96\u001b[0m, \u001b[38;5;34m96\u001b[0m,  │         \u001b[38;5;34m0\u001b[0m │ concatenate[\u001b[38;5;34m0\u001b[0m… │   \u001b[1m-\u001b[0m   │\n",
              "│ (\u001b[38;5;33mRandomFlip\u001b[0m)      │ \u001b[38;5;34m3\u001b[0m)              │           │                │       │\n",
              "├───────────────────┼─────────────────┼───────────┼────────────────┼───────┤\n",
              "│ resnet50v2        │ (\u001b[38;5;45mNone\u001b[0m, \u001b[38;5;34m3\u001b[0m, \u001b[38;5;34m3\u001b[0m,    │ \u001b[38;5;34m23,564,8…\u001b[0m │ random_flip[\u001b[38;5;34m0\u001b[0m… │   \u001b[1;38;5;34mY\u001b[0m   │\n",
              "│ (\u001b[38;5;33mFunctional\u001b[0m)      │ \u001b[38;5;34m2048\u001b[0m)           │           │                │       │\n",
              "├───────────────────┼─────────────────┼───────────┼────────────────┼───────┤\n",
              "│ global_average_p… │ (\u001b[38;5;45mNone\u001b[0m, \u001b[38;5;34m2048\u001b[0m)    │         \u001b[38;5;34m0\u001b[0m │ resnet50v2[\u001b[38;5;34m0\u001b[0m]… │   \u001b[1m-\u001b[0m   │\n",
              "│ (\u001b[38;5;33mGlobalAveragePo…\u001b[0m │                 │           │                │       │\n",
              "├───────────────────┼─────────────────┼───────────┼────────────────┼───────┤\n",
              "│ dropout (\u001b[38;5;33mDropout\u001b[0m) │ (\u001b[38;5;45mNone\u001b[0m, \u001b[38;5;34m2048\u001b[0m)    │         \u001b[38;5;34m0\u001b[0m │ global_averag… │   \u001b[1m-\u001b[0m   │\n",
              "├───────────────────┼─────────────────┼───────────┼────────────────┼───────┤\n",
              "│ dense (\u001b[38;5;33mDense\u001b[0m)     │ (\u001b[38;5;45mNone\u001b[0m, \u001b[38;5;34m10\u001b[0m)      │    \u001b[38;5;34m20,490\u001b[0m │ dropout[\u001b[38;5;34m0\u001b[0m][\u001b[38;5;34m0\u001b[0m]  │   \u001b[1;38;5;34mY\u001b[0m   │\n",
              "└───────────────────┴─────────────────┴───────────┴────────────────┴───────┘\n"
            ],
            "text/html": [
              "<pre style=\"white-space:pre;overflow-x:auto;line-height:normal;font-family:Menlo,'DejaVu Sans Mono',consolas,'Courier New',monospace\">┏━━━━━━━━━━━━━━━━━━━┳━━━━━━━━━━━━━━━━━┳━━━━━━━━━━━┳━━━━━━━━━━━━━━━━┳━━━━━━━┓\n",
              "┃<span style=\"font-weight: bold\"> Layer (type)      </span>┃<span style=\"font-weight: bold\"> Output Shape    </span>┃<span style=\"font-weight: bold\">   Param # </span>┃<span style=\"font-weight: bold\"> Connected to   </span>┃<span style=\"font-weight: bold\"> Trai… </span>┃\n",
              "┡━━━━━━━━━━━━━━━━━━━╇━━━━━━━━━━━━━━━━━╇━━━━━━━━━━━╇━━━━━━━━━━━━━━━━╇━━━━━━━┩\n",
              "│ input_layer_1     │ (<span style=\"color: #00d7ff; text-decoration-color: #00d7ff\">None</span>, <span style=\"color: #00af00; text-decoration-color: #00af00\">28</span>, <span style=\"color: #00af00; text-decoration-color: #00af00\">28</span>,  │         <span style=\"color: #00af00; text-decoration-color: #00af00\">0</span> │ -              │   <span style=\"font-weight: bold\">-</span>   │\n",
              "│ (<span style=\"color: #0087ff; text-decoration-color: #0087ff\">InputLayer</span>)      │ <span style=\"color: #00af00; text-decoration-color: #00af00\">1</span>)              │           │                │       │\n",
              "├───────────────────┼─────────────────┼───────────┼────────────────┼───────┤\n",
              "│ resizing          │ (<span style=\"color: #00d7ff; text-decoration-color: #00d7ff\">None</span>, <span style=\"color: #00af00; text-decoration-color: #00af00\">96</span>, <span style=\"color: #00af00; text-decoration-color: #00af00\">96</span>,  │         <span style=\"color: #00af00; text-decoration-color: #00af00\">0</span> │ input_layer_1… │   <span style=\"font-weight: bold\">-</span>   │\n",
              "│ (<span style=\"color: #0087ff; text-decoration-color: #0087ff\">Resizing</span>)        │ <span style=\"color: #00af00; text-decoration-color: #00af00\">1</span>)              │           │                │       │\n",
              "├───────────────────┼─────────────────┼───────────┼────────────────┼───────┤\n",
              "│ concatenate       │ (<span style=\"color: #00d7ff; text-decoration-color: #00d7ff\">None</span>, <span style=\"color: #00af00; text-decoration-color: #00af00\">96</span>, <span style=\"color: #00af00; text-decoration-color: #00af00\">96</span>,  │         <span style=\"color: #00af00; text-decoration-color: #00af00\">0</span> │ resizing[<span style=\"color: #00af00; text-decoration-color: #00af00\">0</span>][<span style=\"color: #00af00; text-decoration-color: #00af00\">0</span>… │   <span style=\"font-weight: bold\">-</span>   │\n",
              "│ (<span style=\"color: #0087ff; text-decoration-color: #0087ff\">Concatenate</span>)     │ <span style=\"color: #00af00; text-decoration-color: #00af00\">3</span>)              │           │ resizing[<span style=\"color: #00af00; text-decoration-color: #00af00\">0</span>][<span style=\"color: #00af00; text-decoration-color: #00af00\">0</span>… │       │\n",
              "│                   │                 │           │ resizing[<span style=\"color: #00af00; text-decoration-color: #00af00\">0</span>][<span style=\"color: #00af00; text-decoration-color: #00af00\">0</span>] │       │\n",
              "├───────────────────┼─────────────────┼───────────┼────────────────┼───────┤\n",
              "│ random_flip       │ (<span style=\"color: #00d7ff; text-decoration-color: #00d7ff\">None</span>, <span style=\"color: #00af00; text-decoration-color: #00af00\">96</span>, <span style=\"color: #00af00; text-decoration-color: #00af00\">96</span>,  │         <span style=\"color: #00af00; text-decoration-color: #00af00\">0</span> │ concatenate[<span style=\"color: #00af00; text-decoration-color: #00af00\">0</span>… │   <span style=\"font-weight: bold\">-</span>   │\n",
              "│ (<span style=\"color: #0087ff; text-decoration-color: #0087ff\">RandomFlip</span>)      │ <span style=\"color: #00af00; text-decoration-color: #00af00\">3</span>)              │           │                │       │\n",
              "├───────────────────┼─────────────────┼───────────┼────────────────┼───────┤\n",
              "│ resnet50v2        │ (<span style=\"color: #00d7ff; text-decoration-color: #00d7ff\">None</span>, <span style=\"color: #00af00; text-decoration-color: #00af00\">3</span>, <span style=\"color: #00af00; text-decoration-color: #00af00\">3</span>,    │ <span style=\"color: #00af00; text-decoration-color: #00af00\">23,564,8…</span> │ random_flip[<span style=\"color: #00af00; text-decoration-color: #00af00\">0</span>… │   <span style=\"color: #00af00; text-decoration-color: #00af00; font-weight: bold\">Y</span>   │\n",
              "│ (<span style=\"color: #0087ff; text-decoration-color: #0087ff\">Functional</span>)      │ <span style=\"color: #00af00; text-decoration-color: #00af00\">2048</span>)           │           │                │       │\n",
              "├───────────────────┼─────────────────┼───────────┼────────────────┼───────┤\n",
              "│ global_average_p… │ (<span style=\"color: #00d7ff; text-decoration-color: #00d7ff\">None</span>, <span style=\"color: #00af00; text-decoration-color: #00af00\">2048</span>)    │         <span style=\"color: #00af00; text-decoration-color: #00af00\">0</span> │ resnet50v2[<span style=\"color: #00af00; text-decoration-color: #00af00\">0</span>]… │   <span style=\"font-weight: bold\">-</span>   │\n",
              "│ (<span style=\"color: #0087ff; text-decoration-color: #0087ff\">GlobalAveragePo…</span> │                 │           │                │       │\n",
              "├───────────────────┼─────────────────┼───────────┼────────────────┼───────┤\n",
              "│ dropout (<span style=\"color: #0087ff; text-decoration-color: #0087ff\">Dropout</span>) │ (<span style=\"color: #00d7ff; text-decoration-color: #00d7ff\">None</span>, <span style=\"color: #00af00; text-decoration-color: #00af00\">2048</span>)    │         <span style=\"color: #00af00; text-decoration-color: #00af00\">0</span> │ global_averag… │   <span style=\"font-weight: bold\">-</span>   │\n",
              "├───────────────────┼─────────────────┼───────────┼────────────────┼───────┤\n",
              "│ dense (<span style=\"color: #0087ff; text-decoration-color: #0087ff\">Dense</span>)     │ (<span style=\"color: #00d7ff; text-decoration-color: #00d7ff\">None</span>, <span style=\"color: #00af00; text-decoration-color: #00af00\">10</span>)      │    <span style=\"color: #00af00; text-decoration-color: #00af00\">20,490</span> │ dropout[<span style=\"color: #00af00; text-decoration-color: #00af00\">0</span>][<span style=\"color: #00af00; text-decoration-color: #00af00\">0</span>]  │   <span style=\"color: #00af00; text-decoration-color: #00af00; font-weight: bold\">Y</span>   │\n",
              "└───────────────────┴─────────────────┴───────────┴────────────────┴───────┘\n",
              "</pre>\n"
            ]
          },
          "metadata": {}
        },
        {
          "output_type": "display_data",
          "data": {
            "text/plain": [
              "\u001b[1m Total params: \u001b[0m\u001b[38;5;34m23,585,290\u001b[0m (89.97 MB)\n"
            ],
            "text/html": [
              "<pre style=\"white-space:pre;overflow-x:auto;line-height:normal;font-family:Menlo,'DejaVu Sans Mono',consolas,'Courier New',monospace\"><span style=\"font-weight: bold\"> Total params: </span><span style=\"color: #00af00; text-decoration-color: #00af00\">23,585,290</span> (89.97 MB)\n",
              "</pre>\n"
            ]
          },
          "metadata": {}
        },
        {
          "output_type": "display_data",
          "data": {
            "text/plain": [
              "\u001b[1m Trainable params: \u001b[0m\u001b[38;5;34m23,539,850\u001b[0m (89.80 MB)\n"
            ],
            "text/html": [
              "<pre style=\"white-space:pre;overflow-x:auto;line-height:normal;font-family:Menlo,'DejaVu Sans Mono',consolas,'Courier New',monospace\"><span style=\"font-weight: bold\"> Trainable params: </span><span style=\"color: #00af00; text-decoration-color: #00af00\">23,539,850</span> (89.80 MB)\n",
              "</pre>\n"
            ]
          },
          "metadata": {}
        },
        {
          "output_type": "display_data",
          "data": {
            "text/plain": [
              "\u001b[1m Non-trainable params: \u001b[0m\u001b[38;5;34m45,440\u001b[0m (177.50 KB)\n"
            ],
            "text/html": [
              "<pre style=\"white-space:pre;overflow-x:auto;line-height:normal;font-family:Menlo,'DejaVu Sans Mono',consolas,'Courier New',monospace\"><span style=\"font-weight: bold\"> Non-trainable params: </span><span style=\"color: #00af00; text-decoration-color: #00af00\">45,440</span> (177.50 KB)\n",
              "</pre>\n"
            ]
          },
          "metadata": {}
        },
        {
          "output_type": "display_data",
          "data": {
            "text/plain": [
              "\u001b[1mModel: \"functional_1\"\u001b[0m\n"
            ],
            "text/html": [
              "<pre style=\"white-space:pre;overflow-x:auto;line-height:normal;font-family:Menlo,'DejaVu Sans Mono',consolas,'Courier New',monospace\"><span style=\"font-weight: bold\">Model: \"functional_1\"</span>\n",
              "</pre>\n"
            ]
          },
          "metadata": {}
        },
        {
          "output_type": "display_data",
          "data": {
            "text/plain": [
              "┏━━━━━━━━━━━━━━━━━━━┳━━━━━━━━━━━━━━━━━┳━━━━━━━━━━━┳━━━━━━━━━━━━━━━━┳━━━━━━━┓\n",
              "┃\u001b[1m \u001b[0m\u001b[1mLayer (type)     \u001b[0m\u001b[1m \u001b[0m┃\u001b[1m \u001b[0m\u001b[1mOutput Shape   \u001b[0m\u001b[1m \u001b[0m┃\u001b[1m \u001b[0m\u001b[1m  Param #\u001b[0m\u001b[1m \u001b[0m┃\u001b[1m \u001b[0m\u001b[1mConnected to  \u001b[0m\u001b[1m \u001b[0m┃\u001b[1m \u001b[0m\u001b[1mTrai…\u001b[0m\u001b[1m \u001b[0m┃\n",
              "┡━━━━━━━━━━━━━━━━━━━╇━━━━━━━━━━━━━━━━━╇━━━━━━━━━━━╇━━━━━━━━━━━━━━━━╇━━━━━━━┩\n",
              "│ input_layer_3     │ (\u001b[38;5;45mNone\u001b[0m, \u001b[38;5;34m28\u001b[0m, \u001b[38;5;34m28\u001b[0m,  │         \u001b[38;5;34m0\u001b[0m │ -              │   \u001b[1m-\u001b[0m   │\n",
              "│ (\u001b[38;5;33mInputLayer\u001b[0m)      │ \u001b[38;5;34m1\u001b[0m)              │           │                │       │\n",
              "├───────────────────┼─────────────────┼───────────┼────────────────┼───────┤\n",
              "│ resizing_1        │ (\u001b[38;5;45mNone\u001b[0m, \u001b[38;5;34m96\u001b[0m, \u001b[38;5;34m96\u001b[0m,  │         \u001b[38;5;34m0\u001b[0m │ input_layer_3… │   \u001b[1m-\u001b[0m   │\n",
              "│ (\u001b[38;5;33mResizing\u001b[0m)        │ \u001b[38;5;34m1\u001b[0m)              │           │                │       │\n",
              "├───────────────────┼─────────────────┼───────────┼────────────────┼───────┤\n",
              "│ concatenate_1     │ (\u001b[38;5;45mNone\u001b[0m, \u001b[38;5;34m96\u001b[0m, \u001b[38;5;34m96\u001b[0m,  │         \u001b[38;5;34m0\u001b[0m │ resizing_1[\u001b[38;5;34m0\u001b[0m]… │   \u001b[1m-\u001b[0m   │\n",
              "│ (\u001b[38;5;33mConcatenate\u001b[0m)     │ \u001b[38;5;34m3\u001b[0m)              │           │ resizing_1[\u001b[38;5;34m0\u001b[0m]… │       │\n",
              "│                   │                 │           │ resizing_1[\u001b[38;5;34m0\u001b[0m]… │       │\n",
              "├───────────────────┼─────────────────┼───────────┼────────────────┼───────┤\n",
              "│ random_flip_1     │ (\u001b[38;5;45mNone\u001b[0m, \u001b[38;5;34m96\u001b[0m, \u001b[38;5;34m96\u001b[0m,  │         \u001b[38;5;34m0\u001b[0m │ concatenate_1… │   \u001b[1m-\u001b[0m   │\n",
              "│ (\u001b[38;5;33mRandomFlip\u001b[0m)      │ \u001b[38;5;34m3\u001b[0m)              │           │                │       │\n",
              "├───────────────────┼─────────────────┼───────────┼────────────────┼───────┤\n",
              "│ resnet50v2        │ (\u001b[38;5;45mNone\u001b[0m, \u001b[38;5;34m3\u001b[0m, \u001b[38;5;34m3\u001b[0m,    │ \u001b[38;5;34m23,564,8…\u001b[0m │ random_flip_1… │   \u001b[1;38;5;34mY\u001b[0m   │\n",
              "│ (\u001b[38;5;33mFunctional\u001b[0m)      │ \u001b[38;5;34m2048\u001b[0m)           │           │                │       │\n",
              "├───────────────────┼─────────────────┼───────────┼────────────────┼───────┤\n",
              "│ global_average_p… │ (\u001b[38;5;45mNone\u001b[0m, \u001b[38;5;34m2048\u001b[0m)    │         \u001b[38;5;34m0\u001b[0m │ resnet50v2[\u001b[38;5;34m0\u001b[0m]… │   \u001b[1m-\u001b[0m   │\n",
              "│ (\u001b[38;5;33mGlobalAveragePo…\u001b[0m │                 │           │                │       │\n",
              "├───────────────────┼─────────────────┼───────────┼────────────────┼───────┤\n",
              "│ dropout_1         │ (\u001b[38;5;45mNone\u001b[0m, \u001b[38;5;34m2048\u001b[0m)    │         \u001b[38;5;34m0\u001b[0m │ global_averag… │   \u001b[1m-\u001b[0m   │\n",
              "│ (\u001b[38;5;33mDropout\u001b[0m)         │                 │           │                │       │\n",
              "├───────────────────┼─────────────────┼───────────┼────────────────┼───────┤\n",
              "│ dense_1 (\u001b[38;5;33mDense\u001b[0m)   │ (\u001b[38;5;45mNone\u001b[0m, \u001b[38;5;34m10\u001b[0m)      │    \u001b[38;5;34m20,490\u001b[0m │ dropout_1[\u001b[38;5;34m0\u001b[0m][\u001b[38;5;34m…\u001b[0m │   \u001b[1;38;5;34mY\u001b[0m   │\n",
              "└───────────────────┴─────────────────┴───────────┴────────────────┴───────┘\n"
            ],
            "text/html": [
              "<pre style=\"white-space:pre;overflow-x:auto;line-height:normal;font-family:Menlo,'DejaVu Sans Mono',consolas,'Courier New',monospace\">┏━━━━━━━━━━━━━━━━━━━┳━━━━━━━━━━━━━━━━━┳━━━━━━━━━━━┳━━━━━━━━━━━━━━━━┳━━━━━━━┓\n",
              "┃<span style=\"font-weight: bold\"> Layer (type)      </span>┃<span style=\"font-weight: bold\"> Output Shape    </span>┃<span style=\"font-weight: bold\">   Param # </span>┃<span style=\"font-weight: bold\"> Connected to   </span>┃<span style=\"font-weight: bold\"> Trai… </span>┃\n",
              "┡━━━━━━━━━━━━━━━━━━━╇━━━━━━━━━━━━━━━━━╇━━━━━━━━━━━╇━━━━━━━━━━━━━━━━╇━━━━━━━┩\n",
              "│ input_layer_3     │ (<span style=\"color: #00d7ff; text-decoration-color: #00d7ff\">None</span>, <span style=\"color: #00af00; text-decoration-color: #00af00\">28</span>, <span style=\"color: #00af00; text-decoration-color: #00af00\">28</span>,  │         <span style=\"color: #00af00; text-decoration-color: #00af00\">0</span> │ -              │   <span style=\"font-weight: bold\">-</span>   │\n",
              "│ (<span style=\"color: #0087ff; text-decoration-color: #0087ff\">InputLayer</span>)      │ <span style=\"color: #00af00; text-decoration-color: #00af00\">1</span>)              │           │                │       │\n",
              "├───────────────────┼─────────────────┼───────────┼────────────────┼───────┤\n",
              "│ resizing_1        │ (<span style=\"color: #00d7ff; text-decoration-color: #00d7ff\">None</span>, <span style=\"color: #00af00; text-decoration-color: #00af00\">96</span>, <span style=\"color: #00af00; text-decoration-color: #00af00\">96</span>,  │         <span style=\"color: #00af00; text-decoration-color: #00af00\">0</span> │ input_layer_3… │   <span style=\"font-weight: bold\">-</span>   │\n",
              "│ (<span style=\"color: #0087ff; text-decoration-color: #0087ff\">Resizing</span>)        │ <span style=\"color: #00af00; text-decoration-color: #00af00\">1</span>)              │           │                │       │\n",
              "├───────────────────┼─────────────────┼───────────┼────────────────┼───────┤\n",
              "│ concatenate_1     │ (<span style=\"color: #00d7ff; text-decoration-color: #00d7ff\">None</span>, <span style=\"color: #00af00; text-decoration-color: #00af00\">96</span>, <span style=\"color: #00af00; text-decoration-color: #00af00\">96</span>,  │         <span style=\"color: #00af00; text-decoration-color: #00af00\">0</span> │ resizing_1[<span style=\"color: #00af00; text-decoration-color: #00af00\">0</span>]… │   <span style=\"font-weight: bold\">-</span>   │\n",
              "│ (<span style=\"color: #0087ff; text-decoration-color: #0087ff\">Concatenate</span>)     │ <span style=\"color: #00af00; text-decoration-color: #00af00\">3</span>)              │           │ resizing_1[<span style=\"color: #00af00; text-decoration-color: #00af00\">0</span>]… │       │\n",
              "│                   │                 │           │ resizing_1[<span style=\"color: #00af00; text-decoration-color: #00af00\">0</span>]… │       │\n",
              "├───────────────────┼─────────────────┼───────────┼────────────────┼───────┤\n",
              "│ random_flip_1     │ (<span style=\"color: #00d7ff; text-decoration-color: #00d7ff\">None</span>, <span style=\"color: #00af00; text-decoration-color: #00af00\">96</span>, <span style=\"color: #00af00; text-decoration-color: #00af00\">96</span>,  │         <span style=\"color: #00af00; text-decoration-color: #00af00\">0</span> │ concatenate_1… │   <span style=\"font-weight: bold\">-</span>   │\n",
              "│ (<span style=\"color: #0087ff; text-decoration-color: #0087ff\">RandomFlip</span>)      │ <span style=\"color: #00af00; text-decoration-color: #00af00\">3</span>)              │           │                │       │\n",
              "├───────────────────┼─────────────────┼───────────┼────────────────┼───────┤\n",
              "│ resnet50v2        │ (<span style=\"color: #00d7ff; text-decoration-color: #00d7ff\">None</span>, <span style=\"color: #00af00; text-decoration-color: #00af00\">3</span>, <span style=\"color: #00af00; text-decoration-color: #00af00\">3</span>,    │ <span style=\"color: #00af00; text-decoration-color: #00af00\">23,564,8…</span> │ random_flip_1… │   <span style=\"color: #00af00; text-decoration-color: #00af00; font-weight: bold\">Y</span>   │\n",
              "│ (<span style=\"color: #0087ff; text-decoration-color: #0087ff\">Functional</span>)      │ <span style=\"color: #00af00; text-decoration-color: #00af00\">2048</span>)           │           │                │       │\n",
              "├───────────────────┼─────────────────┼───────────┼────────────────┼───────┤\n",
              "│ global_average_p… │ (<span style=\"color: #00d7ff; text-decoration-color: #00d7ff\">None</span>, <span style=\"color: #00af00; text-decoration-color: #00af00\">2048</span>)    │         <span style=\"color: #00af00; text-decoration-color: #00af00\">0</span> │ resnet50v2[<span style=\"color: #00af00; text-decoration-color: #00af00\">0</span>]… │   <span style=\"font-weight: bold\">-</span>   │\n",
              "│ (<span style=\"color: #0087ff; text-decoration-color: #0087ff\">GlobalAveragePo…</span> │                 │           │                │       │\n",
              "├───────────────────┼─────────────────┼───────────┼────────────────┼───────┤\n",
              "│ dropout_1         │ (<span style=\"color: #00d7ff; text-decoration-color: #00d7ff\">None</span>, <span style=\"color: #00af00; text-decoration-color: #00af00\">2048</span>)    │         <span style=\"color: #00af00; text-decoration-color: #00af00\">0</span> │ global_averag… │   <span style=\"font-weight: bold\">-</span>   │\n",
              "│ (<span style=\"color: #0087ff; text-decoration-color: #0087ff\">Dropout</span>)         │                 │           │                │       │\n",
              "├───────────────────┼─────────────────┼───────────┼────────────────┼───────┤\n",
              "│ dense_1 (<span style=\"color: #0087ff; text-decoration-color: #0087ff\">Dense</span>)   │ (<span style=\"color: #00d7ff; text-decoration-color: #00d7ff\">None</span>, <span style=\"color: #00af00; text-decoration-color: #00af00\">10</span>)      │    <span style=\"color: #00af00; text-decoration-color: #00af00\">20,490</span> │ dropout_1[<span style=\"color: #00af00; text-decoration-color: #00af00\">0</span>][<span style=\"color: #00af00; text-decoration-color: #00af00\">…</span> │   <span style=\"color: #00af00; text-decoration-color: #00af00; font-weight: bold\">Y</span>   │\n",
              "└───────────────────┴─────────────────┴───────────┴────────────────┴───────┘\n",
              "</pre>\n"
            ]
          },
          "metadata": {}
        },
        {
          "output_type": "display_data",
          "data": {
            "text/plain": [
              "\u001b[1m Total params: \u001b[0m\u001b[38;5;34m23,585,290\u001b[0m (89.97 MB)\n"
            ],
            "text/html": [
              "<pre style=\"white-space:pre;overflow-x:auto;line-height:normal;font-family:Menlo,'DejaVu Sans Mono',consolas,'Courier New',monospace\"><span style=\"font-weight: bold\"> Total params: </span><span style=\"color: #00af00; text-decoration-color: #00af00\">23,585,290</span> (89.97 MB)\n",
              "</pre>\n"
            ]
          },
          "metadata": {}
        },
        {
          "output_type": "display_data",
          "data": {
            "text/plain": [
              "\u001b[1m Trainable params: \u001b[0m\u001b[38;5;34m23,539,850\u001b[0m (89.80 MB)\n"
            ],
            "text/html": [
              "<pre style=\"white-space:pre;overflow-x:auto;line-height:normal;font-family:Menlo,'DejaVu Sans Mono',consolas,'Courier New',monospace\"><span style=\"font-weight: bold\"> Trainable params: </span><span style=\"color: #00af00; text-decoration-color: #00af00\">23,539,850</span> (89.80 MB)\n",
              "</pre>\n"
            ]
          },
          "metadata": {}
        },
        {
          "output_type": "display_data",
          "data": {
            "text/plain": [
              "\u001b[1m Non-trainable params: \u001b[0m\u001b[38;5;34m45,440\u001b[0m (177.50 KB)\n"
            ],
            "text/html": [
              "<pre style=\"white-space:pre;overflow-x:auto;line-height:normal;font-family:Menlo,'DejaVu Sans Mono',consolas,'Courier New',monospace\"><span style=\"font-weight: bold\"> Non-trainable params: </span><span style=\"color: #00af00; text-decoration-color: #00af00\">45,440</span> (177.50 KB)\n",
              "</pre>\n"
            ]
          },
          "metadata": {}
        }
      ],
      "source": [
        "def build_model(classifier):\n",
        "\n",
        "    classifier.trainable = True  # Unfreeze the base model for fine-tuning\n",
        "    # Create new model on top\n",
        "    inputs = keras.Input(shape=(28, 28, 1))\n",
        "    x = keras.layers.Resizing(IMAGE_SIZE, IMAGE_SIZE)(inputs)  # Resize input to match the base model\n",
        "    x = keras.layers.Concatenate()([x,x,x])\n",
        "    # Simple data augmentation\n",
        "    x = keras.layers.RandomFlip(\"horizontal\")(x)\n",
        "\n",
        "    # The base model contains batchnorm layers. We want to keep them in inference mode\n",
        "    # when we unfreeze the base model for fine-tuning, so we make sure that the\n",
        "    # base_model is running in inference mode here.\n",
        "    x = classifier(x)\n",
        "    x = keras.layers.GlobalAveragePooling2D()(x)\n",
        "    x = keras.layers.Dropout(0.2)(x)  # Regularize with dropout\n",
        "    outputs = keras.layers.Dense(num_classes)(x)\n",
        "    model = keras.Model(inputs, outputs)\n",
        "\n",
        "    model.summary(show_trainable=True)\n",
        "\n",
        "    return model\n",
        "\n",
        "finetune_net = build_model(keras.applications.ResNet50V2(\n",
        "                                                    weights=\"imagenet\",\n",
        "                                                    include_top=False,\n",
        "                                                    input_shape=(IMAGE_SIZE, IMAGE_SIZE, 3)))\n",
        "\n",
        "scratch_net = build_model(keras.applications.ResNet50V2(\n",
        "                                                    weights=None,\n",
        "                                                    include_top=False,\n",
        "                                                    input_shape=(IMAGE_SIZE, IMAGE_SIZE, 3)))\n"
      ]
    },
    {
      "cell_type": "code",
      "execution_count": null,
      "id": "7ab6092e",
      "metadata": {
        "id": "7ab6092e"
      },
      "outputs": [],
      "source": [
        "# Compile the model for multiclass classification\n",
        "scratch_net.compile(\n",
        "    optimizer=keras.optimizers.Adam(),\n",
        "    loss=keras.losses.SparseCategoricalCrossentropy(from_logits=True),\n",
        "    metrics=[\"accuracy\"]\n",
        ")\n",
        "\n",
        "# Train the model\n",
        "history = scratch_net.fit(\n",
        "    train_images, train_labels,\n",
        "    epochs=10,\n",
        "    batch_size=128,\n",
        "    validation_data=(test_images, test_labels),\n",
        ")"
      ]
    },
    {
      "cell_type": "code",
      "execution_count": null,
      "id": "e54e21b7",
      "metadata": {
        "id": "e54e21b7"
      },
      "outputs": [],
      "source": [
        "plt.plot(history.history['accuracy'], label='accuracy')\n",
        "plt.plot(history.history['val_accuracy'], label = 'val_accuracy')\n",
        "plt.xlabel('Epoch')\n",
        "plt.ylabel('Accuracy')\n",
        "#plt.ylim([0.5, 1])\n",
        "plt.legend(loc='lower right')\n",
        "\n",
        "test_loss, test_acc = scratch_net.evaluate(test_images,  test_labels, verbose=2)"
      ]
    },
    {
      "cell_type": "markdown",
      "id": "6e9a72af",
      "metadata": {
        "id": "6e9a72af"
      },
      "source": [
        "## Zadania\n",
        "\n",
        "1. Wytrenuj model bez pomnażania obrazów. Porównaj celność treningową jak też i testową z oraz bez pomnażania obrazów. Czy ten eksperyment porównawczy popiera argument, że pomnażanie obrazów może ograniczać nadmierne dopasowanie? Dlaczego?\n",
        "2. Wymieszaj różne metody poszerzania zbiorów danych na zbiorze CIFAR-10. Czy poprawiaja one celność?\n",
        "3. Zwiększ współczynnik uczenia w `finetune_net`. Jak zmieni się celność predykcji modelu?\n",
        "4. Kontynuuj dostosowywanie hiperparametrów obu sieci w eksperymencie porównawczym. Czy nadal ich trafność predykcji różni się?\n",
        "5. Ustaw parametry wszystkich warstw z wyjątkiem wyjściowej w siei `finetune_net` na te ze źródłowego modelu i nie aktualizuj ich podczas trningu. Jak zmieni się celność modelu?"
      ]
    }
  ],
  "metadata": {
    "kernelspec": {
      "display_name": "base",
      "language": "python",
      "name": "python3"
    },
    "language_info": {
      "codemirror_mode": {
        "name": "ipython",
        "version": 3
      },
      "file_extension": ".py",
      "mimetype": "text/x-python",
      "name": "python",
      "nbconvert_exporter": "python",
      "pygments_lexer": "ipython3",
      "version": "3.12.7"
    },
    "colab": {
      "provenance": []
    }
  },
  "nbformat": 4,
  "nbformat_minor": 5
}