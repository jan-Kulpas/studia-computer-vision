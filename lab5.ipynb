{
  "cells": [
    {
      "cell_type": "markdown",
      "id": "1777ce1a",
      "metadata": {
        "id": "1777ce1a"
      },
      "source": [
        "# Pomnażanie obrazów i przenoszenie nauki"
      ]
    },
    {
      "cell_type": "code",
      "execution_count": 1,
      "id": "168769e8",
      "metadata": {
        "colab": {
          "base_uri": "https://localhost:8080/",
          "height": 0
        },
        "id": "168769e8",
        "outputId": "7e71c074-cc5c-4245-b446-3a3ac3d7267a"
      },
      "outputs": [
        {
          "output_type": "stream",
          "name": "stdout",
          "text": [
            "GPU 0: Tesla T4\n"
          ]
        }
      ],
      "source": [
        "import os\n",
        "\n",
        "# Ustawienie PyTorch jako zaplecza dla biblioteki Keras\n",
        "os.environ[\"KERAS_BACKEND\"] = \"torch\"\n",
        "import torch\n",
        "import keras\n",
        "from keras import layers, datasets\n",
        "\n",
        "import numpy as np\n",
        "import PIL.Image as Image\n",
        "import matplotlib.pylab as plt\n",
        "\n",
        "# Sprawdzenie dostępności GPU\n",
        "#print(tf.config.list_physical_devices('GPU'))\n",
        "if torch.cuda.is_available():\n",
        "    for i in range(torch.cuda.device_count()):\n",
        "        print(f\"GPU {i}: {torch.cuda.get_device_name(i)}\")\n",
        "else:\n",
        "    if torch.xpu.is_available():\n",
        "        for i in range(torch.xpu.device_count()):\n",
        "            print(f\"XPU {i}: {torch.xpu.get_device_name(i)}\")\n",
        "    else:\n",
        "        print(\"Brak dostępnych GPU lub XPU.\")\n",
        "        print(\"Używam CPU.\")"
      ]
    },
    {
      "cell_type": "code",
      "execution_count": 10,
      "id": "401612a9",
      "metadata": {
        "colab": {
          "base_uri": "https://localhost:8080/",
          "height": 0
        },
        "id": "401612a9",
        "outputId": "4265dc15-2bf4-4de9-ccc2-db03bc241529"
      },
      "outputs": [
        {
          "output_type": "stream",
          "name": "stdout",
          "text": [
            "Downloading data from https://storage.googleapis.com/tensorflow/tf-keras-datasets/train-labels-idx1-ubyte.gz\n",
            "\u001b[1m29515/29515\u001b[0m \u001b[32m━━━━━━━━━━━━━━━━━━━━\u001b[0m\u001b[37m\u001b[0m \u001b[1m0s\u001b[0m 0us/step\n",
            "Downloading data from https://storage.googleapis.com/tensorflow/tf-keras-datasets/train-images-idx3-ubyte.gz\n",
            "\u001b[1m26421880/26421880\u001b[0m \u001b[32m━━━━━━━━━━━━━━━━━━━━\u001b[0m\u001b[37m\u001b[0m \u001b[1m2s\u001b[0m 0us/step\n",
            "Downloading data from https://storage.googleapis.com/tensorflow/tf-keras-datasets/t10k-labels-idx1-ubyte.gz\n",
            "\u001b[1m5148/5148\u001b[0m \u001b[32m━━━━━━━━━━━━━━━━━━━━\u001b[0m\u001b[37m\u001b[0m \u001b[1m0s\u001b[0m 0us/step\n",
            "Downloading data from https://storage.googleapis.com/tensorflow/tf-keras-datasets/t10k-images-idx3-ubyte.gz\n",
            "\u001b[1m4422102/4422102\u001b[0m \u001b[32m━━━━━━━━━━━━━━━━━━━━\u001b[0m\u001b[37m\u001b[0m \u001b[1m1s\u001b[0m 0us/step\n"
          ]
        }
      ],
      "source": [
        "IMAGE_SIZE = 96 #299\n",
        "IMAGE_SHAPE = (IMAGE_SIZE, IMAGE_SIZE)\n",
        "num_classes = 10\n",
        "\n",
        "(train_images, train_labels), (test_images, test_labels) = datasets.fashion_mnist.load_data()\n",
        "\n",
        "# Normalize pixel values to be between 0 and 1\n",
        "train_images, test_images = train_images / 255.0, test_images / 255.0"
      ]
    },
    {
      "cell_type": "code",
      "execution_count": 22,
      "id": "defcaebd",
      "metadata": {
        "colab": {
          "base_uri": "https://localhost:8080/",
          "height": 1297
        },
        "id": "defcaebd",
        "outputId": "c8870c7e-f368-4c72-be5c-ad4064fd9a11"
      },
      "outputs": [
        {
          "output_type": "display_data",
          "data": {
            "text/plain": [
              "\u001b[1mModel: \"functional_14\"\u001b[0m\n"
            ],
            "text/html": [
              "<pre style=\"white-space:pre;overflow-x:auto;line-height:normal;font-family:Menlo,'DejaVu Sans Mono',consolas,'Courier New',monospace\"><span style=\"font-weight: bold\">Model: \"functional_14\"</span>\n",
              "</pre>\n"
            ]
          },
          "metadata": {}
        },
        {
          "output_type": "display_data",
          "data": {
            "text/plain": [
              "┏━━━━━━━━━━━━━━━━━━━┳━━━━━━━━━━━━━━━━━┳━━━━━━━━━━━┳━━━━━━━━━━━━━━━━┳━━━━━━━┓\n",
              "┃\u001b[1m \u001b[0m\u001b[1mLayer (type)     \u001b[0m\u001b[1m \u001b[0m┃\u001b[1m \u001b[0m\u001b[1mOutput Shape   \u001b[0m\u001b[1m \u001b[0m┃\u001b[1m \u001b[0m\u001b[1m  Param #\u001b[0m\u001b[1m \u001b[0m┃\u001b[1m \u001b[0m\u001b[1mConnected to  \u001b[0m\u001b[1m \u001b[0m┃\u001b[1m \u001b[0m\u001b[1mTrai…\u001b[0m\u001b[1m \u001b[0m┃\n",
              "┡━━━━━━━━━━━━━━━━━━━╇━━━━━━━━━━━━━━━━━╇━━━━━━━━━━━╇━━━━━━━━━━━━━━━━╇━━━━━━━┩\n",
              "│ input_layer_29    │ (\u001b[38;5;45mNone\u001b[0m, \u001b[38;5;34m28\u001b[0m, \u001b[38;5;34m28\u001b[0m,  │         \u001b[38;5;34m0\u001b[0m │ -              │   \u001b[1m-\u001b[0m   │\n",
              "│ (\u001b[38;5;33mInputLayer\u001b[0m)      │ \u001b[38;5;34m1\u001b[0m)              │           │                │       │\n",
              "├───────────────────┼─────────────────┼───────────┼────────────────┼───────┤\n",
              "│ resizing_14       │ (\u001b[38;5;45mNone\u001b[0m, \u001b[38;5;34m96\u001b[0m, \u001b[38;5;34m96\u001b[0m,  │         \u001b[38;5;34m0\u001b[0m │ input_layer_2… │   \u001b[1m-\u001b[0m   │\n",
              "│ (\u001b[38;5;33mResizing\u001b[0m)        │ \u001b[38;5;34m1\u001b[0m)              │           │                │       │\n",
              "├───────────────────┼─────────────────┼───────────┼────────────────┼───────┤\n",
              "│ concatenate_14    │ (\u001b[38;5;45mNone\u001b[0m, \u001b[38;5;34m96\u001b[0m, \u001b[38;5;34m96\u001b[0m,  │         \u001b[38;5;34m0\u001b[0m │ resizing_14[\u001b[38;5;34m0\u001b[0m… │   \u001b[1m-\u001b[0m   │\n",
              "│ (\u001b[38;5;33mConcatenate\u001b[0m)     │ \u001b[38;5;34m3\u001b[0m)              │           │ resizing_14[\u001b[38;5;34m0\u001b[0m… │       │\n",
              "│                   │                 │           │ resizing_14[\u001b[38;5;34m0\u001b[0m… │       │\n",
              "├───────────────────┼─────────────────┼───────────┼────────────────┼───────┤\n",
              "│ random_flip_10    │ (\u001b[38;5;45mNone\u001b[0m, \u001b[38;5;34m96\u001b[0m, \u001b[38;5;34m96\u001b[0m,  │         \u001b[38;5;34m0\u001b[0m │ concatenate_1… │   \u001b[1m-\u001b[0m   │\n",
              "│ (\u001b[38;5;33mRandomFlip\u001b[0m)      │ \u001b[38;5;34m3\u001b[0m)              │           │                │       │\n",
              "├───────────────────┼─────────────────┼───────────┼────────────────┼───────┤\n",
              "│ random_rotation_2 │ (\u001b[38;5;45mNone\u001b[0m, \u001b[38;5;34m96\u001b[0m, \u001b[38;5;34m96\u001b[0m,  │         \u001b[38;5;34m0\u001b[0m │ random_flip_1… │   \u001b[1m-\u001b[0m   │\n",
              "│ (\u001b[38;5;33mRandomRotation\u001b[0m)  │ \u001b[38;5;34m3\u001b[0m)              │           │                │       │\n",
              "├───────────────────┼─────────────────┼───────────┼────────────────┼───────┤\n",
              "│ random_color_jit… │ (\u001b[38;5;45mNone\u001b[0m, \u001b[38;5;34m96\u001b[0m, \u001b[38;5;34m96\u001b[0m,  │         \u001b[38;5;34m0\u001b[0m │ random_rotati… │   \u001b[1m-\u001b[0m   │\n",
              "│ (\u001b[38;5;33mRandomColorJitt…\u001b[0m │ \u001b[38;5;34m3\u001b[0m)              │           │                │       │\n",
              "├───────────────────┼─────────────────┼───────────┼────────────────┼───────┤\n",
              "│ random_sharpness… │ (\u001b[38;5;45mNone\u001b[0m, \u001b[38;5;34m96\u001b[0m, \u001b[38;5;34m96\u001b[0m,  │         \u001b[38;5;34m0\u001b[0m │ random_color_… │   \u001b[1m-\u001b[0m   │\n",
              "│ (\u001b[38;5;33mRandomSharpness\u001b[0m) │ \u001b[38;5;34m3\u001b[0m)              │           │                │       │\n",
              "├───────────────────┼─────────────────┼───────────┼────────────────┼───────┤\n",
              "│ resnet50v2        │ (\u001b[38;5;45mNone\u001b[0m, \u001b[38;5;34m3\u001b[0m, \u001b[38;5;34m3\u001b[0m,    │ \u001b[38;5;34m23,564,8…\u001b[0m │ random_sharpn… │   \u001b[1;38;5;34mY\u001b[0m   │\n",
              "│ (\u001b[38;5;33mFunctional\u001b[0m)      │ \u001b[38;5;34m2048\u001b[0m)           │           │                │       │\n",
              "├───────────────────┼─────────────────┼───────────┼────────────────┼───────┤\n",
              "│ global_average_p… │ (\u001b[38;5;45mNone\u001b[0m, \u001b[38;5;34m2048\u001b[0m)    │         \u001b[38;5;34m0\u001b[0m │ resnet50v2[\u001b[38;5;34m0\u001b[0m]… │   \u001b[1m-\u001b[0m   │\n",
              "│ (\u001b[38;5;33mGlobalAveragePo…\u001b[0m │                 │           │                │       │\n",
              "├───────────────────┼─────────────────┼───────────┼────────────────┼───────┤\n",
              "│ dropout_14        │ (\u001b[38;5;45mNone\u001b[0m, \u001b[38;5;34m2048\u001b[0m)    │         \u001b[38;5;34m0\u001b[0m │ global_averag… │   \u001b[1m-\u001b[0m   │\n",
              "│ (\u001b[38;5;33mDropout\u001b[0m)         │                 │           │                │       │\n",
              "├───────────────────┼─────────────────┼───────────┼────────────────┼───────┤\n",
              "│ dense_14 (\u001b[38;5;33mDense\u001b[0m)  │ (\u001b[38;5;45mNone\u001b[0m, \u001b[38;5;34m10\u001b[0m)      │    \u001b[38;5;34m20,490\u001b[0m │ dropout_14[\u001b[38;5;34m0\u001b[0m]… │   \u001b[1;38;5;34mY\u001b[0m   │\n",
              "└───────────────────┴─────────────────┴───────────┴────────────────┴───────┘\n"
            ],
            "text/html": [
              "<pre style=\"white-space:pre;overflow-x:auto;line-height:normal;font-family:Menlo,'DejaVu Sans Mono',consolas,'Courier New',monospace\">┏━━━━━━━━━━━━━━━━━━━┳━━━━━━━━━━━━━━━━━┳━━━━━━━━━━━┳━━━━━━━━━━━━━━━━┳━━━━━━━┓\n",
              "┃<span style=\"font-weight: bold\"> Layer (type)      </span>┃<span style=\"font-weight: bold\"> Output Shape    </span>┃<span style=\"font-weight: bold\">   Param # </span>┃<span style=\"font-weight: bold\"> Connected to   </span>┃<span style=\"font-weight: bold\"> Trai… </span>┃\n",
              "┡━━━━━━━━━━━━━━━━━━━╇━━━━━━━━━━━━━━━━━╇━━━━━━━━━━━╇━━━━━━━━━━━━━━━━╇━━━━━━━┩\n",
              "│ input_layer_29    │ (<span style=\"color: #00d7ff; text-decoration-color: #00d7ff\">None</span>, <span style=\"color: #00af00; text-decoration-color: #00af00\">28</span>, <span style=\"color: #00af00; text-decoration-color: #00af00\">28</span>,  │         <span style=\"color: #00af00; text-decoration-color: #00af00\">0</span> │ -              │   <span style=\"font-weight: bold\">-</span>   │\n",
              "│ (<span style=\"color: #0087ff; text-decoration-color: #0087ff\">InputLayer</span>)      │ <span style=\"color: #00af00; text-decoration-color: #00af00\">1</span>)              │           │                │       │\n",
              "├───────────────────┼─────────────────┼───────────┼────────────────┼───────┤\n",
              "│ resizing_14       │ (<span style=\"color: #00d7ff; text-decoration-color: #00d7ff\">None</span>, <span style=\"color: #00af00; text-decoration-color: #00af00\">96</span>, <span style=\"color: #00af00; text-decoration-color: #00af00\">96</span>,  │         <span style=\"color: #00af00; text-decoration-color: #00af00\">0</span> │ input_layer_2… │   <span style=\"font-weight: bold\">-</span>   │\n",
              "│ (<span style=\"color: #0087ff; text-decoration-color: #0087ff\">Resizing</span>)        │ <span style=\"color: #00af00; text-decoration-color: #00af00\">1</span>)              │           │                │       │\n",
              "├───────────────────┼─────────────────┼───────────┼────────────────┼───────┤\n",
              "│ concatenate_14    │ (<span style=\"color: #00d7ff; text-decoration-color: #00d7ff\">None</span>, <span style=\"color: #00af00; text-decoration-color: #00af00\">96</span>, <span style=\"color: #00af00; text-decoration-color: #00af00\">96</span>,  │         <span style=\"color: #00af00; text-decoration-color: #00af00\">0</span> │ resizing_14[<span style=\"color: #00af00; text-decoration-color: #00af00\">0</span>… │   <span style=\"font-weight: bold\">-</span>   │\n",
              "│ (<span style=\"color: #0087ff; text-decoration-color: #0087ff\">Concatenate</span>)     │ <span style=\"color: #00af00; text-decoration-color: #00af00\">3</span>)              │           │ resizing_14[<span style=\"color: #00af00; text-decoration-color: #00af00\">0</span>… │       │\n",
              "│                   │                 │           │ resizing_14[<span style=\"color: #00af00; text-decoration-color: #00af00\">0</span>… │       │\n",
              "├───────────────────┼─────────────────┼───────────┼────────────────┼───────┤\n",
              "│ random_flip_10    │ (<span style=\"color: #00d7ff; text-decoration-color: #00d7ff\">None</span>, <span style=\"color: #00af00; text-decoration-color: #00af00\">96</span>, <span style=\"color: #00af00; text-decoration-color: #00af00\">96</span>,  │         <span style=\"color: #00af00; text-decoration-color: #00af00\">0</span> │ concatenate_1… │   <span style=\"font-weight: bold\">-</span>   │\n",
              "│ (<span style=\"color: #0087ff; text-decoration-color: #0087ff\">RandomFlip</span>)      │ <span style=\"color: #00af00; text-decoration-color: #00af00\">3</span>)              │           │                │       │\n",
              "├───────────────────┼─────────────────┼───────────┼────────────────┼───────┤\n",
              "│ random_rotation_2 │ (<span style=\"color: #00d7ff; text-decoration-color: #00d7ff\">None</span>, <span style=\"color: #00af00; text-decoration-color: #00af00\">96</span>, <span style=\"color: #00af00; text-decoration-color: #00af00\">96</span>,  │         <span style=\"color: #00af00; text-decoration-color: #00af00\">0</span> │ random_flip_1… │   <span style=\"font-weight: bold\">-</span>   │\n",
              "│ (<span style=\"color: #0087ff; text-decoration-color: #0087ff\">RandomRotation</span>)  │ <span style=\"color: #00af00; text-decoration-color: #00af00\">3</span>)              │           │                │       │\n",
              "├───────────────────┼─────────────────┼───────────┼────────────────┼───────┤\n",
              "│ random_color_jit… │ (<span style=\"color: #00d7ff; text-decoration-color: #00d7ff\">None</span>, <span style=\"color: #00af00; text-decoration-color: #00af00\">96</span>, <span style=\"color: #00af00; text-decoration-color: #00af00\">96</span>,  │         <span style=\"color: #00af00; text-decoration-color: #00af00\">0</span> │ random_rotati… │   <span style=\"font-weight: bold\">-</span>   │\n",
              "│ (<span style=\"color: #0087ff; text-decoration-color: #0087ff\">RandomColorJitt…</span> │ <span style=\"color: #00af00; text-decoration-color: #00af00\">3</span>)              │           │                │       │\n",
              "├───────────────────┼─────────────────┼───────────┼────────────────┼───────┤\n",
              "│ random_sharpness… │ (<span style=\"color: #00d7ff; text-decoration-color: #00d7ff\">None</span>, <span style=\"color: #00af00; text-decoration-color: #00af00\">96</span>, <span style=\"color: #00af00; text-decoration-color: #00af00\">96</span>,  │         <span style=\"color: #00af00; text-decoration-color: #00af00\">0</span> │ random_color_… │   <span style=\"font-weight: bold\">-</span>   │\n",
              "│ (<span style=\"color: #0087ff; text-decoration-color: #0087ff\">RandomSharpness</span>) │ <span style=\"color: #00af00; text-decoration-color: #00af00\">3</span>)              │           │                │       │\n",
              "├───────────────────┼─────────────────┼───────────┼────────────────┼───────┤\n",
              "│ resnet50v2        │ (<span style=\"color: #00d7ff; text-decoration-color: #00d7ff\">None</span>, <span style=\"color: #00af00; text-decoration-color: #00af00\">3</span>, <span style=\"color: #00af00; text-decoration-color: #00af00\">3</span>,    │ <span style=\"color: #00af00; text-decoration-color: #00af00\">23,564,8…</span> │ random_sharpn… │   <span style=\"color: #00af00; text-decoration-color: #00af00; font-weight: bold\">Y</span>   │\n",
              "│ (<span style=\"color: #0087ff; text-decoration-color: #0087ff\">Functional</span>)      │ <span style=\"color: #00af00; text-decoration-color: #00af00\">2048</span>)           │           │                │       │\n",
              "├───────────────────┼─────────────────┼───────────┼────────────────┼───────┤\n",
              "│ global_average_p… │ (<span style=\"color: #00d7ff; text-decoration-color: #00d7ff\">None</span>, <span style=\"color: #00af00; text-decoration-color: #00af00\">2048</span>)    │         <span style=\"color: #00af00; text-decoration-color: #00af00\">0</span> │ resnet50v2[<span style=\"color: #00af00; text-decoration-color: #00af00\">0</span>]… │   <span style=\"font-weight: bold\">-</span>   │\n",
              "│ (<span style=\"color: #0087ff; text-decoration-color: #0087ff\">GlobalAveragePo…</span> │                 │           │                │       │\n",
              "├───────────────────┼─────────────────┼───────────┼────────────────┼───────┤\n",
              "│ dropout_14        │ (<span style=\"color: #00d7ff; text-decoration-color: #00d7ff\">None</span>, <span style=\"color: #00af00; text-decoration-color: #00af00\">2048</span>)    │         <span style=\"color: #00af00; text-decoration-color: #00af00\">0</span> │ global_averag… │   <span style=\"font-weight: bold\">-</span>   │\n",
              "│ (<span style=\"color: #0087ff; text-decoration-color: #0087ff\">Dropout</span>)         │                 │           │                │       │\n",
              "├───────────────────┼─────────────────┼───────────┼────────────────┼───────┤\n",
              "│ dense_14 (<span style=\"color: #0087ff; text-decoration-color: #0087ff\">Dense</span>)  │ (<span style=\"color: #00d7ff; text-decoration-color: #00d7ff\">None</span>, <span style=\"color: #00af00; text-decoration-color: #00af00\">10</span>)      │    <span style=\"color: #00af00; text-decoration-color: #00af00\">20,490</span> │ dropout_14[<span style=\"color: #00af00; text-decoration-color: #00af00\">0</span>]… │   <span style=\"color: #00af00; text-decoration-color: #00af00; font-weight: bold\">Y</span>   │\n",
              "└───────────────────┴─────────────────┴───────────┴────────────────┴───────┘\n",
              "</pre>\n"
            ]
          },
          "metadata": {}
        },
        {
          "output_type": "display_data",
          "data": {
            "text/plain": [
              "\u001b[1m Total params: \u001b[0m\u001b[38;5;34m23,585,290\u001b[0m (89.97 MB)\n"
            ],
            "text/html": [
              "<pre style=\"white-space:pre;overflow-x:auto;line-height:normal;font-family:Menlo,'DejaVu Sans Mono',consolas,'Courier New',monospace\"><span style=\"font-weight: bold\"> Total params: </span><span style=\"color: #00af00; text-decoration-color: #00af00\">23,585,290</span> (89.97 MB)\n",
              "</pre>\n"
            ]
          },
          "metadata": {}
        },
        {
          "output_type": "display_data",
          "data": {
            "text/plain": [
              "\u001b[1m Trainable params: \u001b[0m\u001b[38;5;34m23,539,850\u001b[0m (89.80 MB)\n"
            ],
            "text/html": [
              "<pre style=\"white-space:pre;overflow-x:auto;line-height:normal;font-family:Menlo,'DejaVu Sans Mono',consolas,'Courier New',monospace\"><span style=\"font-weight: bold\"> Trainable params: </span><span style=\"color: #00af00; text-decoration-color: #00af00\">23,539,850</span> (89.80 MB)\n",
              "</pre>\n"
            ]
          },
          "metadata": {}
        },
        {
          "output_type": "display_data",
          "data": {
            "text/plain": [
              "\u001b[1m Non-trainable params: \u001b[0m\u001b[38;5;34m45,440\u001b[0m (177.50 KB)\n"
            ],
            "text/html": [
              "<pre style=\"white-space:pre;overflow-x:auto;line-height:normal;font-family:Menlo,'DejaVu Sans Mono',consolas,'Courier New',monospace\"><span style=\"font-weight: bold\"> Non-trainable params: </span><span style=\"color: #00af00; text-decoration-color: #00af00\">45,440</span> (177.50 KB)\n",
              "</pre>\n"
            ]
          },
          "metadata": {}
        },
        {
          "output_type": "display_data",
          "data": {
            "text/plain": [
              "\u001b[1mModel: \"functional_15\"\u001b[0m\n"
            ],
            "text/html": [
              "<pre style=\"white-space:pre;overflow-x:auto;line-height:normal;font-family:Menlo,'DejaVu Sans Mono',consolas,'Courier New',monospace\"><span style=\"font-weight: bold\">Model: \"functional_15\"</span>\n",
              "</pre>\n"
            ]
          },
          "metadata": {}
        },
        {
          "output_type": "display_data",
          "data": {
            "text/plain": [
              "┏━━━━━━━━━━━━━━━━━━━┳━━━━━━━━━━━━━━━━━┳━━━━━━━━━━━┳━━━━━━━━━━━━━━━━┳━━━━━━━┓\n",
              "┃\u001b[1m \u001b[0m\u001b[1mLayer (type)     \u001b[0m\u001b[1m \u001b[0m┃\u001b[1m \u001b[0m\u001b[1mOutput Shape   \u001b[0m\u001b[1m \u001b[0m┃\u001b[1m \u001b[0m\u001b[1m  Param #\u001b[0m\u001b[1m \u001b[0m┃\u001b[1m \u001b[0m\u001b[1mConnected to  \u001b[0m\u001b[1m \u001b[0m┃\u001b[1m \u001b[0m\u001b[1mTrai…\u001b[0m\u001b[1m \u001b[0m┃\n",
              "┡━━━━━━━━━━━━━━━━━━━╇━━━━━━━━━━━━━━━━━╇━━━━━━━━━━━╇━━━━━━━━━━━━━━━━╇━━━━━━━┩\n",
              "│ input_layer_31    │ (\u001b[38;5;45mNone\u001b[0m, \u001b[38;5;34m28\u001b[0m, \u001b[38;5;34m28\u001b[0m,  │         \u001b[38;5;34m0\u001b[0m │ -              │   \u001b[1m-\u001b[0m   │\n",
              "│ (\u001b[38;5;33mInputLayer\u001b[0m)      │ \u001b[38;5;34m1\u001b[0m)              │           │                │       │\n",
              "├───────────────────┼─────────────────┼───────────┼────────────────┼───────┤\n",
              "│ resizing_15       │ (\u001b[38;5;45mNone\u001b[0m, \u001b[38;5;34m96\u001b[0m, \u001b[38;5;34m96\u001b[0m,  │         \u001b[38;5;34m0\u001b[0m │ input_layer_3… │   \u001b[1m-\u001b[0m   │\n",
              "│ (\u001b[38;5;33mResizing\u001b[0m)        │ \u001b[38;5;34m1\u001b[0m)              │           │                │       │\n",
              "├───────────────────┼─────────────────┼───────────┼────────────────┼───────┤\n",
              "│ concatenate_15    │ (\u001b[38;5;45mNone\u001b[0m, \u001b[38;5;34m96\u001b[0m, \u001b[38;5;34m96\u001b[0m,  │         \u001b[38;5;34m0\u001b[0m │ resizing_15[\u001b[38;5;34m0\u001b[0m… │   \u001b[1m-\u001b[0m   │\n",
              "│ (\u001b[38;5;33mConcatenate\u001b[0m)     │ \u001b[38;5;34m3\u001b[0m)              │           │ resizing_15[\u001b[38;5;34m0\u001b[0m… │       │\n",
              "│                   │                 │           │ resizing_15[\u001b[38;5;34m0\u001b[0m… │       │\n",
              "├───────────────────┼─────────────────┼───────────┼────────────────┼───────┤\n",
              "│ random_flip_11    │ (\u001b[38;5;45mNone\u001b[0m, \u001b[38;5;34m96\u001b[0m, \u001b[38;5;34m96\u001b[0m,  │         \u001b[38;5;34m0\u001b[0m │ concatenate_1… │   \u001b[1m-\u001b[0m   │\n",
              "│ (\u001b[38;5;33mRandomFlip\u001b[0m)      │ \u001b[38;5;34m3\u001b[0m)              │           │                │       │\n",
              "├───────────────────┼─────────────────┼───────────┼────────────────┼───────┤\n",
              "│ random_rotation_3 │ (\u001b[38;5;45mNone\u001b[0m, \u001b[38;5;34m96\u001b[0m, \u001b[38;5;34m96\u001b[0m,  │         \u001b[38;5;34m0\u001b[0m │ random_flip_1… │   \u001b[1m-\u001b[0m   │\n",
              "│ (\u001b[38;5;33mRandomRotation\u001b[0m)  │ \u001b[38;5;34m3\u001b[0m)              │           │                │       │\n",
              "├───────────────────┼─────────────────┼───────────┼────────────────┼───────┤\n",
              "│ random_color_jit… │ (\u001b[38;5;45mNone\u001b[0m, \u001b[38;5;34m96\u001b[0m, \u001b[38;5;34m96\u001b[0m,  │         \u001b[38;5;34m0\u001b[0m │ random_rotati… │   \u001b[1m-\u001b[0m   │\n",
              "│ (\u001b[38;5;33mRandomColorJitt…\u001b[0m │ \u001b[38;5;34m3\u001b[0m)              │           │                │       │\n",
              "├───────────────────┼─────────────────┼───────────┼────────────────┼───────┤\n",
              "│ random_sharpness… │ (\u001b[38;5;45mNone\u001b[0m, \u001b[38;5;34m96\u001b[0m, \u001b[38;5;34m96\u001b[0m,  │         \u001b[38;5;34m0\u001b[0m │ random_color_… │   \u001b[1m-\u001b[0m   │\n",
              "│ (\u001b[38;5;33mRandomSharpness\u001b[0m) │ \u001b[38;5;34m3\u001b[0m)              │           │                │       │\n",
              "├───────────────────┼─────────────────┼───────────┼────────────────┼───────┤\n",
              "│ resnet50v2        │ (\u001b[38;5;45mNone\u001b[0m, \u001b[38;5;34m3\u001b[0m, \u001b[38;5;34m3\u001b[0m,    │ \u001b[38;5;34m23,564,8…\u001b[0m │ random_sharpn… │   \u001b[1;38;5;34mY\u001b[0m   │\n",
              "│ (\u001b[38;5;33mFunctional\u001b[0m)      │ \u001b[38;5;34m2048\u001b[0m)           │           │                │       │\n",
              "├───────────────────┼─────────────────┼───────────┼────────────────┼───────┤\n",
              "│ global_average_p… │ (\u001b[38;5;45mNone\u001b[0m, \u001b[38;5;34m2048\u001b[0m)    │         \u001b[38;5;34m0\u001b[0m │ resnet50v2[\u001b[38;5;34m0\u001b[0m]… │   \u001b[1m-\u001b[0m   │\n",
              "│ (\u001b[38;5;33mGlobalAveragePo…\u001b[0m │                 │           │                │       │\n",
              "├───────────────────┼─────────────────┼───────────┼────────────────┼───────┤\n",
              "│ dropout_15        │ (\u001b[38;5;45mNone\u001b[0m, \u001b[38;5;34m2048\u001b[0m)    │         \u001b[38;5;34m0\u001b[0m │ global_averag… │   \u001b[1m-\u001b[0m   │\n",
              "│ (\u001b[38;5;33mDropout\u001b[0m)         │                 │           │                │       │\n",
              "├───────────────────┼─────────────────┼───────────┼────────────────┼───────┤\n",
              "│ dense_15 (\u001b[38;5;33mDense\u001b[0m)  │ (\u001b[38;5;45mNone\u001b[0m, \u001b[38;5;34m10\u001b[0m)      │    \u001b[38;5;34m20,490\u001b[0m │ dropout_15[\u001b[38;5;34m0\u001b[0m]… │   \u001b[1;38;5;34mY\u001b[0m   │\n",
              "└───────────────────┴─────────────────┴───────────┴────────────────┴───────┘\n"
            ],
            "text/html": [
              "<pre style=\"white-space:pre;overflow-x:auto;line-height:normal;font-family:Menlo,'DejaVu Sans Mono',consolas,'Courier New',monospace\">┏━━━━━━━━━━━━━━━━━━━┳━━━━━━━━━━━━━━━━━┳━━━━━━━━━━━┳━━━━━━━━━━━━━━━━┳━━━━━━━┓\n",
              "┃<span style=\"font-weight: bold\"> Layer (type)      </span>┃<span style=\"font-weight: bold\"> Output Shape    </span>┃<span style=\"font-weight: bold\">   Param # </span>┃<span style=\"font-weight: bold\"> Connected to   </span>┃<span style=\"font-weight: bold\"> Trai… </span>┃\n",
              "┡━━━━━━━━━━━━━━━━━━━╇━━━━━━━━━━━━━━━━━╇━━━━━━━━━━━╇━━━━━━━━━━━━━━━━╇━━━━━━━┩\n",
              "│ input_layer_31    │ (<span style=\"color: #00d7ff; text-decoration-color: #00d7ff\">None</span>, <span style=\"color: #00af00; text-decoration-color: #00af00\">28</span>, <span style=\"color: #00af00; text-decoration-color: #00af00\">28</span>,  │         <span style=\"color: #00af00; text-decoration-color: #00af00\">0</span> │ -              │   <span style=\"font-weight: bold\">-</span>   │\n",
              "│ (<span style=\"color: #0087ff; text-decoration-color: #0087ff\">InputLayer</span>)      │ <span style=\"color: #00af00; text-decoration-color: #00af00\">1</span>)              │           │                │       │\n",
              "├───────────────────┼─────────────────┼───────────┼────────────────┼───────┤\n",
              "│ resizing_15       │ (<span style=\"color: #00d7ff; text-decoration-color: #00d7ff\">None</span>, <span style=\"color: #00af00; text-decoration-color: #00af00\">96</span>, <span style=\"color: #00af00; text-decoration-color: #00af00\">96</span>,  │         <span style=\"color: #00af00; text-decoration-color: #00af00\">0</span> │ input_layer_3… │   <span style=\"font-weight: bold\">-</span>   │\n",
              "│ (<span style=\"color: #0087ff; text-decoration-color: #0087ff\">Resizing</span>)        │ <span style=\"color: #00af00; text-decoration-color: #00af00\">1</span>)              │           │                │       │\n",
              "├───────────────────┼─────────────────┼───────────┼────────────────┼───────┤\n",
              "│ concatenate_15    │ (<span style=\"color: #00d7ff; text-decoration-color: #00d7ff\">None</span>, <span style=\"color: #00af00; text-decoration-color: #00af00\">96</span>, <span style=\"color: #00af00; text-decoration-color: #00af00\">96</span>,  │         <span style=\"color: #00af00; text-decoration-color: #00af00\">0</span> │ resizing_15[<span style=\"color: #00af00; text-decoration-color: #00af00\">0</span>… │   <span style=\"font-weight: bold\">-</span>   │\n",
              "│ (<span style=\"color: #0087ff; text-decoration-color: #0087ff\">Concatenate</span>)     │ <span style=\"color: #00af00; text-decoration-color: #00af00\">3</span>)              │           │ resizing_15[<span style=\"color: #00af00; text-decoration-color: #00af00\">0</span>… │       │\n",
              "│                   │                 │           │ resizing_15[<span style=\"color: #00af00; text-decoration-color: #00af00\">0</span>… │       │\n",
              "├───────────────────┼─────────────────┼───────────┼────────────────┼───────┤\n",
              "│ random_flip_11    │ (<span style=\"color: #00d7ff; text-decoration-color: #00d7ff\">None</span>, <span style=\"color: #00af00; text-decoration-color: #00af00\">96</span>, <span style=\"color: #00af00; text-decoration-color: #00af00\">96</span>,  │         <span style=\"color: #00af00; text-decoration-color: #00af00\">0</span> │ concatenate_1… │   <span style=\"font-weight: bold\">-</span>   │\n",
              "│ (<span style=\"color: #0087ff; text-decoration-color: #0087ff\">RandomFlip</span>)      │ <span style=\"color: #00af00; text-decoration-color: #00af00\">3</span>)              │           │                │       │\n",
              "├───────────────────┼─────────────────┼───────────┼────────────────┼───────┤\n",
              "│ random_rotation_3 │ (<span style=\"color: #00d7ff; text-decoration-color: #00d7ff\">None</span>, <span style=\"color: #00af00; text-decoration-color: #00af00\">96</span>, <span style=\"color: #00af00; text-decoration-color: #00af00\">96</span>,  │         <span style=\"color: #00af00; text-decoration-color: #00af00\">0</span> │ random_flip_1… │   <span style=\"font-weight: bold\">-</span>   │\n",
              "│ (<span style=\"color: #0087ff; text-decoration-color: #0087ff\">RandomRotation</span>)  │ <span style=\"color: #00af00; text-decoration-color: #00af00\">3</span>)              │           │                │       │\n",
              "├───────────────────┼─────────────────┼───────────┼────────────────┼───────┤\n",
              "│ random_color_jit… │ (<span style=\"color: #00d7ff; text-decoration-color: #00d7ff\">None</span>, <span style=\"color: #00af00; text-decoration-color: #00af00\">96</span>, <span style=\"color: #00af00; text-decoration-color: #00af00\">96</span>,  │         <span style=\"color: #00af00; text-decoration-color: #00af00\">0</span> │ random_rotati… │   <span style=\"font-weight: bold\">-</span>   │\n",
              "│ (<span style=\"color: #0087ff; text-decoration-color: #0087ff\">RandomColorJitt…</span> │ <span style=\"color: #00af00; text-decoration-color: #00af00\">3</span>)              │           │                │       │\n",
              "├───────────────────┼─────────────────┼───────────┼────────────────┼───────┤\n",
              "│ random_sharpness… │ (<span style=\"color: #00d7ff; text-decoration-color: #00d7ff\">None</span>, <span style=\"color: #00af00; text-decoration-color: #00af00\">96</span>, <span style=\"color: #00af00; text-decoration-color: #00af00\">96</span>,  │         <span style=\"color: #00af00; text-decoration-color: #00af00\">0</span> │ random_color_… │   <span style=\"font-weight: bold\">-</span>   │\n",
              "│ (<span style=\"color: #0087ff; text-decoration-color: #0087ff\">RandomSharpness</span>) │ <span style=\"color: #00af00; text-decoration-color: #00af00\">3</span>)              │           │                │       │\n",
              "├───────────────────┼─────────────────┼───────────┼────────────────┼───────┤\n",
              "│ resnet50v2        │ (<span style=\"color: #00d7ff; text-decoration-color: #00d7ff\">None</span>, <span style=\"color: #00af00; text-decoration-color: #00af00\">3</span>, <span style=\"color: #00af00; text-decoration-color: #00af00\">3</span>,    │ <span style=\"color: #00af00; text-decoration-color: #00af00\">23,564,8…</span> │ random_sharpn… │   <span style=\"color: #00af00; text-decoration-color: #00af00; font-weight: bold\">Y</span>   │\n",
              "│ (<span style=\"color: #0087ff; text-decoration-color: #0087ff\">Functional</span>)      │ <span style=\"color: #00af00; text-decoration-color: #00af00\">2048</span>)           │           │                │       │\n",
              "├───────────────────┼─────────────────┼───────────┼────────────────┼───────┤\n",
              "│ global_average_p… │ (<span style=\"color: #00d7ff; text-decoration-color: #00d7ff\">None</span>, <span style=\"color: #00af00; text-decoration-color: #00af00\">2048</span>)    │         <span style=\"color: #00af00; text-decoration-color: #00af00\">0</span> │ resnet50v2[<span style=\"color: #00af00; text-decoration-color: #00af00\">0</span>]… │   <span style=\"font-weight: bold\">-</span>   │\n",
              "│ (<span style=\"color: #0087ff; text-decoration-color: #0087ff\">GlobalAveragePo…</span> │                 │           │                │       │\n",
              "├───────────────────┼─────────────────┼───────────┼────────────────┼───────┤\n",
              "│ dropout_15        │ (<span style=\"color: #00d7ff; text-decoration-color: #00d7ff\">None</span>, <span style=\"color: #00af00; text-decoration-color: #00af00\">2048</span>)    │         <span style=\"color: #00af00; text-decoration-color: #00af00\">0</span> │ global_averag… │   <span style=\"font-weight: bold\">-</span>   │\n",
              "│ (<span style=\"color: #0087ff; text-decoration-color: #0087ff\">Dropout</span>)         │                 │           │                │       │\n",
              "├───────────────────┼─────────────────┼───────────┼────────────────┼───────┤\n",
              "│ dense_15 (<span style=\"color: #0087ff; text-decoration-color: #0087ff\">Dense</span>)  │ (<span style=\"color: #00d7ff; text-decoration-color: #00d7ff\">None</span>, <span style=\"color: #00af00; text-decoration-color: #00af00\">10</span>)      │    <span style=\"color: #00af00; text-decoration-color: #00af00\">20,490</span> │ dropout_15[<span style=\"color: #00af00; text-decoration-color: #00af00\">0</span>]… │   <span style=\"color: #00af00; text-decoration-color: #00af00; font-weight: bold\">Y</span>   │\n",
              "└───────────────────┴─────────────────┴───────────┴────────────────┴───────┘\n",
              "</pre>\n"
            ]
          },
          "metadata": {}
        },
        {
          "output_type": "display_data",
          "data": {
            "text/plain": [
              "\u001b[1m Total params: \u001b[0m\u001b[38;5;34m23,585,290\u001b[0m (89.97 MB)\n"
            ],
            "text/html": [
              "<pre style=\"white-space:pre;overflow-x:auto;line-height:normal;font-family:Menlo,'DejaVu Sans Mono',consolas,'Courier New',monospace\"><span style=\"font-weight: bold\"> Total params: </span><span style=\"color: #00af00; text-decoration-color: #00af00\">23,585,290</span> (89.97 MB)\n",
              "</pre>\n"
            ]
          },
          "metadata": {}
        },
        {
          "output_type": "display_data",
          "data": {
            "text/plain": [
              "\u001b[1m Trainable params: \u001b[0m\u001b[38;5;34m23,539,850\u001b[0m (89.80 MB)\n"
            ],
            "text/html": [
              "<pre style=\"white-space:pre;overflow-x:auto;line-height:normal;font-family:Menlo,'DejaVu Sans Mono',consolas,'Courier New',monospace\"><span style=\"font-weight: bold\"> Trainable params: </span><span style=\"color: #00af00; text-decoration-color: #00af00\">23,539,850</span> (89.80 MB)\n",
              "</pre>\n"
            ]
          },
          "metadata": {}
        },
        {
          "output_type": "display_data",
          "data": {
            "text/plain": [
              "\u001b[1m Non-trainable params: \u001b[0m\u001b[38;5;34m45,440\u001b[0m (177.50 KB)\n"
            ],
            "text/html": [
              "<pre style=\"white-space:pre;overflow-x:auto;line-height:normal;font-family:Menlo,'DejaVu Sans Mono',consolas,'Courier New',monospace\"><span style=\"font-weight: bold\"> Non-trainable params: </span><span style=\"color: #00af00; text-decoration-color: #00af00\">45,440</span> (177.50 KB)\n",
              "</pre>\n"
            ]
          },
          "metadata": {}
        }
      ],
      "source": [
        "def build_model(classifier):\n",
        "\n",
        "    classifier.trainable = True  # Unfreeze the base model for fine-tuning\n",
        "    # Create new model on top\n",
        "    inputs = keras.Input(shape=(28, 28, 1))\n",
        "    x = keras.layers.Resizing(IMAGE_SIZE, IMAGE_SIZE)(inputs)  # Resize input to match the base model\n",
        "    x = keras.layers.Concatenate()([x,x,x])\n",
        "    # Simple data augmentation\n",
        "    x = keras.layers.RandomFlip(\"horizontal\")(x)\n",
        "    x = keras.layers.RandomRotation(0.5)(x)\n",
        "    x = keras.layers.RandomColorJitter()(x)\n",
        "    x = keras.layers.RandomSharpness(0.66)(x)\n",
        "    # The base model contains batchnorm layers. We want to keep them in inference mode\n",
        "    # when we unfreeze the base model for fine-tuning, so we make sure that the\n",
        "    # base_model is running in inference mode here.\n",
        "    x = classifier(x)\n",
        "    x = keras.layers.GlobalAveragePooling2D()(x)\n",
        "    x = keras.layers.Dropout(0.2)(x)  # Regularize with dropout\n",
        "    outputs = keras.layers.Dense(num_classes)(x)\n",
        "    model = keras.Model(inputs, outputs)\n",
        "\n",
        "    model.summary(show_trainable=True)\n",
        "\n",
        "    return model\n",
        "\n",
        "finetune_net = build_model(keras.applications.ResNet50V2(\n",
        "                                                    weights=\"imagenet\",\n",
        "                                                    include_top=False,\n",
        "                                                    input_shape=(IMAGE_SIZE, IMAGE_SIZE, 3)))\n",
        "\n",
        "scratch_net = build_model(keras.applications.ResNet50V2(\n",
        "                                                    weights=None,\n",
        "                                                    include_top=False,\n",
        "                                                    input_shape=(IMAGE_SIZE, IMAGE_SIZE, 3)))\n"
      ]
    },
    {
      "cell_type": "code",
      "execution_count": 23,
      "id": "7ab6092e",
      "metadata": {
        "colab": {
          "base_uri": "https://localhost:8080/",
          "height": 0
        },
        "id": "7ab6092e",
        "outputId": "660101c0-5690-4c8a-dab9-bd15937aae78"
      },
      "outputs": [
        {
          "output_type": "stream",
          "name": "stdout",
          "text": [
            "Epoch 1/5\n",
            "\u001b[1m235/235\u001b[0m \u001b[32m━━━━━━━━━━━━━━━━━━━━\u001b[0m\u001b[37m\u001b[0m \u001b[1m245s\u001b[0m 1s/step - accuracy: 0.1309 - loss: 2.4700 - val_accuracy: 0.1000 - val_loss: 921910.8125\n",
            "Epoch 2/5\n",
            "\u001b[1m235/235\u001b[0m \u001b[32m━━━━━━━━━━━━━━━━━━━━\u001b[0m\u001b[37m\u001b[0m \u001b[1m244s\u001b[0m 1s/step - accuracy: 0.1340 - loss: 2.2827 - val_accuracy: 0.1118 - val_loss: 82763.8906\n",
            "Epoch 3/5\n",
            "\u001b[1m235/235\u001b[0m \u001b[32m━━━━━━━━━━━━━━━━━━━━\u001b[0m\u001b[37m\u001b[0m \u001b[1m248s\u001b[0m 1s/step - accuracy: 0.1248 - loss: 2.2995 - val_accuracy: 0.1301 - val_loss: 2.2423\n",
            "Epoch 4/5\n",
            "\u001b[1m235/235\u001b[0m \u001b[32m━━━━━━━━━━━━━━━━━━━━\u001b[0m\u001b[37m\u001b[0m \u001b[1m247s\u001b[0m 1s/step - accuracy: 0.1705 - loss: 2.1878 - val_accuracy: 0.0800 - val_loss: 2.4603\n",
            "Epoch 5/5\n",
            "\u001b[1m235/235\u001b[0m \u001b[32m━━━━━━━━━━━━━━━━━━━━\u001b[0m\u001b[37m\u001b[0m \u001b[1m246s\u001b[0m 1s/step - accuracy: 0.4055 - loss: 1.5441 - val_accuracy: 0.2599 - val_loss: 6.2545\n"
          ]
        }
      ],
      "source": [
        "# Compile the model for multiclass classification\n",
        "finetune_net.compile(\n",
        "    optimizer=keras.optimizers.Adam(learning_rate=0.01),\n",
        "    loss=keras.losses.SparseCategoricalCrossentropy(from_logits=True),\n",
        "    metrics=[\"accuracy\"]\n",
        ")\n",
        "\n",
        "# Train the model\n",
        "history = finetune_net.fit(\n",
        "    train_images, train_labels,\n",
        "    epochs=5,\n",
        "    batch_size=256,\n",
        "    validation_data=(test_images, test_labels),\n",
        ")"
      ]
    },
    {
      "cell_type": "code",
      "execution_count": 26,
      "id": "e54e21b7",
      "metadata": {
        "colab": {
          "base_uri": "https://localhost:8080/",
          "height": 466
        },
        "id": "e54e21b7",
        "outputId": "63319b13-b8b0-46e9-fd0a-382b10a935b6"
      },
      "outputs": [
        {
          "output_type": "stream",
          "name": "stdout",
          "text": [
            "313/313 - 20s - 64ms/step - accuracy: 0.2599 - loss: 6.2545\n"
          ]
        },
        {
          "output_type": "display_data",
          "data": {
            "text/plain": [
              "<Figure size 640x480 with 1 Axes>"
            ],
            "image/png": "[encoded data removed]"
          },
          "metadata": {}
        }
      ],
      "source": [
        "plt.plot(history.history['accuracy'], label='accuracy')\n",
        "plt.plot(history.history['val_accuracy'], label = 'val_accuracy')\n",
        "plt.xlabel('Epoch')\n",
        "plt.ylabel('Accuracy')\n",
        "#plt.ylim([0.5, 1])\n",
        "plt.legend(loc='lower right')\n",
        "\n",
        "test_loss, test_acc = finetune_net.evaluate(test_images,  test_labels, verbose=2)"
      ]
    },
    {
      "cell_type": "markdown",
      "id": "6e9a72af",
      "metadata": {
        "id": "6e9a72af"
      },
      "source": [
        "## Zadania\n",
        "\n",
        "1. Wytrenuj model bez pomnażania obrazów. Porównaj celność treningową jak też i testową z oraz bez pomnażania obrazów. Czy ten eksperyment porównawczy popiera argument, że pomnażanie obrazów może ograniczać nadmierne dopasowanie? Dlaczego?\n",
        "2. Wymieszaj różne metody poszerzania zbiorów danych na zbiorze CIFAR-10. Czy poprawiaja one celność?\n",
        "3. Zwiększ współczynnik uczenia w `finetune_net`. Jak zmieni się celność predykcji modelu?\n",
        "4. Kontynuuj dostosowywanie hiperparametrów obu sieci w eksperymencie porównawczym. Czy nadal ich trafność predykcji różni się?\n",
        "5. Ustaw parametry wszystkich warstw z wyjątkiem wyjściowej w siei `finetune_net` na te ze źródłowego modelu i nie aktualizuj ich podczas trningu. Jak zmieni się celność modelu?"
      ]
    }
  ],
  "metadata": {
    "kernelspec": {
      "display_name": "base",
      "language": "python",
      "name": "python3"
    },
    "language_info": {
      "codemirror_mode": {
        "name": "ipython",
        "version": 3
      },
      "file_extension": ".py",
      "mimetype": "text/x-python",
      "name": "python",
      "nbconvert_exporter": "python",
      "pygments_lexer": "ipython3",
      "version": "3.12.7"
    },
    "colab": {
      "provenance": []
    }
  },
  "nbformat": 4,
  "nbformat_minor": 5
}